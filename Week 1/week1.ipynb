{
 "cells": [
  {
   "cell_type": "code",
   "execution_count": 56,
   "metadata": {},
   "outputs": [],
   "source": [
    "import numpy as np"
   ]
  },
  {
   "cell_type": "code",
   "execution_count": 57,
   "metadata": {},
   "outputs": [
    {
     "name": "stdout",
     "output_type": "stream",
     "text": [
      "A = [[1 2 7]\n",
      " [3 5 8]\n",
      " [3 6 9]]\n"
     ]
    }
   ],
   "source": [
    "# Define A\n",
    "a = np.array(\n",
    "    [\n",
    "        [1, 2, 7],\n",
    "        [3, 5, 8],\n",
    "        [3, 6, 9],\n",
    "    ]\n",
    ")\n",
    "print(f\"A = {a}\")"
   ]
  },
  {
   "cell_type": "code",
   "execution_count": 58,
   "metadata": {},
   "outputs": [
    {
     "name": "stdout",
     "output_type": "stream",
     "text": [
      "B1 = [[1 7]\n",
      " [3 8]\n",
      " [3 9]]\n"
     ]
    }
   ],
   "source": [
    "# Delete 2nd Col\n",
    "B1 = np.delete(a, 1, 1)\n",
    "print(f\"B1 = {B1}\")"
   ]
  },
  {
   "cell_type": "code",
   "execution_count": 70,
   "metadata": {},
   "outputs": [
    {
     "name": "stdout",
     "output_type": "stream",
     "text": [
      "B2 = [[1 2 7]\n",
      " [3 6 9]]\n"
     ]
    }
   ],
   "source": [
    "# Delete 2nd Row\n",
    "B2 = np.delete(a, 1, 0)\n",
    "print(f\"B2 = {B2}\")"
   ]
  },
  {
   "cell_type": "code",
   "execution_count": 72,
   "metadata": {},
   "outputs": [
    {
     "name": "stdout",
     "output_type": "stream",
     "text": [
      "[[ 22  44  70]\n",
      " [ 27  54  93]\n",
      " [ 30  60 102]]\n",
      "[[ 28  86]\n",
      " [ 48 150]]\n"
     ]
    }
   ],
   "source": [
    "# Product of matrices\n",
    "data1to2 = B1@B2\n",
    "print(data1to2)\n",
    "\n",
    "data2to1 = B2@B1\n",
    "print(data2to1)"
   ]
  },
  {
   "cell_type": "code",
   "execution_count": 62,
   "metadata": {},
   "outputs": [
    {
     "name": "stdout",
     "output_type": "stream",
     "text": [
      "[[1 2 7]\n",
      " [3 5 8]\n",
      " [3 6 9]]\n",
      "[[1 4 2]\n",
      " [4 2 4]\n",
      " [3 6 9]]\n"
     ]
    }
   ],
   "source": [
    "# Example 2\n",
    "A = np.array([[1, 2, 7], [3, 5, 8], [3, 6, 9]])\n",
    "B = np.array([[1, 4, 2], [4, 2, 4], [3, 6, 9]])\n",
    "\n",
    "print(A)\n",
    "print(B)\n"
   ]
  },
  {
   "cell_type": "code",
   "execution_count": null,
   "metadata": {},
   "outputs": [
    {
     "name": "stdout",
     "output_type": "stream",
     "text": [
      "[[ 30  50  73]\n",
      " [ 47  70  98]\n",
      " [ 54  78 111]]\n"
     ]
    }
   ],
   "source": [
    "# Matrix product (A x B)\n",
    "matrix_product = np.dot(A, B)\n",
    "print(matrix_product)"
   ]
  },
  {
   "cell_type": "code",
   "execution_count": null,
   "metadata": {},
   "outputs": [
    {
     "name": "stdout",
     "output_type": "stream",
     "text": [
      "[[ 1  8 14]\n",
      " [12 10 32]\n",
      " [ 9 36 81]]\n"
     ]
    }
   ],
   "source": [
    "# Array product (Multiply each element by the corresponding element)\n",
    "array_product = A*B\n",
    "print(array_product)"
   ]
  },
  {
   "cell_type": "code",
   "execution_count": null,
   "metadata": {},
   "outputs": [
    {
     "name": "stdout",
     "output_type": "stream",
     "text": [
      "[[        1        16        49]\n",
      " [       81        25      4096]\n",
      " [       27     46656 387420489]]\n"
     ]
    }
   ],
   "source": [
    "# Array square (Square each element in A by corresponding element in B)\n",
    "array_square = A**B\n",
    "print(array_square)"
   ]
  },
  {
   "cell_type": "code",
   "execution_count": null,
   "metadata": {},
   "outputs": [
    {
     "name": "stdout",
     "output_type": "stream",
     "text": [
      "[[ 28  54  86]\n",
      " [ 42  79 133]\n",
      " [ 48  90 150]]\n"
     ]
    }
   ],
   "source": [
    "# Matrix square (A x A)\n",
    "matrix_square = np.dot(A,A)\n",
    "print(matrix_square)"
   ]
  },
  {
   "cell_type": "code",
   "execution_count": null,
   "metadata": {},
   "outputs": [
    {
     "name": "stdout",
     "output_type": "stream",
     "text": [
      "[ 3.77586207 -7.68965517 -3.43103448  6.22413793]\n"
     ]
    }
   ],
   "source": [
    "# Example 3\n",
    "# # Solve set of simultaneous equations\n",
    "# 1*x_1 + 2*x_2 + 3*x_3 + 4*x_4 = 3\n",
    "# 2*x_1 + 0*x_2 + 8*x_3 + 4*x_4 = 5\n",
    "# 7*x_1 + 0*x_2 + 9*x_3 + 2*x_4 = 8\n",
    "# 1*x_1 + 0*x_2 + 0*x_3 + 1*x_4 = 10\n",
    "\n",
    "A = np.array(\n",
    "    [\n",
    "        [1, 2, 3, 4],\n",
    "        [2, 0, 8, 4],\n",
    "        [7, 0, 9, 2],\n",
    "        [1, 0, 0, 1]\n",
    "    ]\n",
    ")\n",
    "\n",
    "b = np.array([3, 5, 8, 10])\n",
    "\n",
    "x = np.linalg.solve(A, b)\n",
    "print(f\"x\")"
   ]
  },
  {
   "cell_type": "code",
   "execution_count": 78,
   "metadata": {},
   "outputs": [
    {
     "data": {
      "image/png": "[encoded data removed]",
      "text/plain": [
       "<Figure size 640x480 with 1 Axes>"
      ]
     },
     "metadata": {},
     "output_type": "display_data"
    }
   ],
   "source": [
    "# Example 4\n",
    "import matplotlib.pyplot as plt\n",
    "t = np.linspace(-20, 20)\n",
    "v = 5*np.exp(-(t**2)/9)*np.sin(8*t)\n",
    "plt.plot(v)\n",
    "plt.title(\"Function plotted from t=-20 to t=20\")\n",
    "plt.xlabel(\"Time (s)\")\n",
    "plt.ylabel(\"Velocity (m/s)\")\n",
    "plt.grid(True)"
   ]
  },
  {
   "cell_type": "code",
   "execution_count": null,
   "metadata": {},
   "outputs": [],
   "source": []
  }
 ],
 "metadata": {
  "kernelspec": {
   "display_name": "Python 3 (ipykernel)",
   "language": "python",
   "name": "python3"
  },
  "language_info": {
   "codemirror_mode": {
    "name": "ipython",
    "version": 3
   },
   "file_extension": ".py",
   "mimetype": "text/x-python",
   "name": "python",
   "nbconvert_exporter": "python",
   "pygments_lexer": "ipython3",
   "version": "3.10.12"
  }
 },
 "nbformat": 4,
 "nbformat_minor": 2
}
